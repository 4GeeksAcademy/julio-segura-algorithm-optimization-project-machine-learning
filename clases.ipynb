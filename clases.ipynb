{
 "cells": [
  {
   "cell_type": "code",
   "execution_count": 2,
   "metadata": {},
   "outputs": [
    {
     "name": "stdout",
     "output_type": "stream",
     "text": [
      "<__main__.Fruit object at 0x7f10080f78d0>\n",
      "red\n"
     ]
    }
   ],
   "source": [
    "class Fruit: # define la clase Fruit. Una clase es una estructura que encapsula datos y funciones relacionadas en un solo objeto.\n",
    "    def __init__(self): # __init__ inicializa los atributos name y colour con los valoes apple y red.\n",
    "        # __init__ es un constructor que se ejecuta automáticamente cuando se crea un nuevo objeto de la clase. \n",
    "        # El parámetro self hace referencia al objeto actual que se está creando ?\n",
    "        # __init_ se utiliza para inicializar los atributos del objeto\n",
    "\n",
    "        self.name = 'apple'\n",
    "        self.colour = 'red'\n",
    "\n",
    "my_fruit = Fruit()\n",
    "\n",
    "print(my_fruit)\n",
    "\n",
    "print(my_fruit.colour)"
   ]
  },
  {
   "cell_type": "code",
   "execution_count": 3,
   "metadata": {},
   "outputs": [
    {
     "name": "stdout",
     "output_type": "stream",
     "text": [
      "gas\n"
     ]
    }
   ],
   "source": [
    "class Car:\n",
    "    def __init__ (self, brand, type):\n",
    "        self.brand = brand\n",
    "        self.type = type\n",
    "\n",
    "bmw = Car('bmw', 'electric')\n",
    "opel = Car('opel', 'gas')\n",
    "toyota = Car('toyota','gas')\n",
    "\n",
    "print(opel.type)"
   ]
  }
 ],
 "metadata": {
  "kernelspec": {
   "display_name": "Python 3",
   "language": "python",
   "name": "python3"
  },
  "language_info": {
   "codemirror_mode": {
    "name": "ipython",
    "version": 3
   },
   "file_extension": ".py",
   "mimetype": "text/x-python",
   "name": "python",
   "nbconvert_exporter": "python",
   "pygments_lexer": "ipython3",
   "version": "3.11.4"
  },
  "orig_nbformat": 4
 },
 "nbformat": 4,
 "nbformat_minor": 2
}
